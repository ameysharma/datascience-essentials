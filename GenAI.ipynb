{
 "cells": [
  {
   "cell_type": "code",
   "execution_count": 4,
   "metadata": {},
   "outputs": [
    {
     "name": "stdout",
     "output_type": "stream",
     "text": [
      "/workspaces/datascience-essentials\n",
      "fatal: destination path 'Fooocus' already exists and is not an empty directory.\n",
      "/workspaces/datascience-essentials/Fooocus\n"
     ]
    },
    {
     "name": "stdout",
     "output_type": "stream",
     "text": [
      "Already up-to-date\n",
      "Update succeeded.\n",
      "[System ARGV] ['entry_with_update.py', '--share']\n",
      "Python 3.12.1 (main, Dec 12 2024, 22:30:56) [GCC 9.4.0]\n",
      "Fooocus version: 2.5.5\n",
      "[Cleanup] Attempting to delete content of temp dir /tmp/fooocus\n",
      "[Cleanup] Cleanup successful\n",
      "Traceback (most recent call last):\n",
      "  File \"/workspaces/datascience-essentials/Fooocus/entry_with_update.py\", line 46, in <module>\n",
      "    from launch import *\n",
      "  File \"/workspaces/datascience-essentials/Fooocus/launch.py\", line 152, in <module>\n",
      "    from webui import *\n",
      "  File \"/workspaces/datascience-essentials/Fooocus/webui.py\", line 10, in <module>\n",
      "    import modules.async_worker as worker\n",
      "  File \"/workspaces/datascience-essentials/Fooocus/modules/async_worker.py\", line 3, in <module>\n",
      "    from extras.inpaint_mask import generate_mask_from_image, SAMOptions\n",
      "  File \"/workspaces/datascience-essentials/Fooocus/extras/inpaint_mask.py\", line 6, in <module>\n",
      "    from extras.GroundingDINO.util.inference import default_groundingdino\n",
      "  File \"/workspaces/datascience-essentials/Fooocus/extras/GroundingDINO/util/inference.py\", line 3, in <module>\n",
      "    import ldm_patched.modules.model_management as model_management\n",
      "  File \"/workspaces/datascience-essentials/Fooocus/ldm_patched/modules/model_management.py\", line 121, in <module>\n",
      "    total_vram = get_total_memory(get_torch_device()) / (1024 * 1024)\n",
      "                                  ^^^^^^^^^^^^^^^^^^\n",
      "  File \"/workspaces/datascience-essentials/Fooocus/ldm_patched/modules/model_management.py\", line 90, in get_torch_device\n",
      "    return torch.device(torch.cuda.current_device())\n",
      "                        ^^^^^^^^^^^^^^^^^^^^^^^^^^^\n",
      "  File \"/home/codespace/.local/lib/python3.12/site-packages/torch/cuda/__init__.py\", line 940, in current_device\n",
      "    _lazy_init()\n",
      "  File \"/home/codespace/.local/lib/python3.12/site-packages/torch/cuda/__init__.py\", line 310, in _lazy_init\n",
      "    raise AssertionError(\"Torch not compiled with CUDA enabled\")\n",
      "AssertionError: Torch not compiled with CUDA enabled\n"
     ]
    }
   ],
   "source": [
    "%cd /workspaces/datascience-essentials\n",
    "!git clone https://github.com/lllyasviel/Fooocus.git\n",
    "%cd Fooocus\n",
    "!python entry_with_update.py --share\n"
   ]
  }
 ],
 "metadata": {
  "kernelspec": {
   "display_name": "Python 3",
   "language": "python",
   "name": "python3"
  },
  "language_info": {
   "codemirror_mode": {
    "name": "ipython",
    "version": 3
   },
   "file_extension": ".py",
   "mimetype": "text/x-python",
   "name": "python",
   "nbconvert_exporter": "python",
   "pygments_lexer": "ipython3",
   "version": "3.12.1"
  }
 },
 "nbformat": 4,
 "nbformat_minor": 2
}
